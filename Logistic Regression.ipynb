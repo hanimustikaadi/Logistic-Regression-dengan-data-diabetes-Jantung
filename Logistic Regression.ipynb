{
 "cells": [
  {
   "cell_type": "markdown",
   "metadata": {},
   "source": [
    "# Logisti Regression In Medical Industry - Study Case Heart Diabetes\n"
   ]
  },
  {
   "cell_type": "markdown",
   "metadata": {},
   "source": [
    "Pada suatu sore, saya dan Fadli meminum kopi di suatu coffe shop . Fadil adalah teman saya. Dia adalah seorang dokter. \n",
    "Fadil bercerita bahwa mempunyai data tentang studi kasus diabetes jantung. Data tersebut bercerita tentang variabel yang mempengaruhi penyakit diabets. Fadil meminta bantuan saya untuk menganalisa data tersebut, dan dibuatkan suatu marchine leaning agar nantinya Fadil bisa memprediksi keadaan pasien tersebut apakah pasien tersebut terkena penyakit diabets atau tidak   .Setelah saya lihat datanya , saya teringat tentang metode logistic Regression. "
   ]
  },
  {
   "cell_type": "markdown",
   "metadata": {},
   "source": [
    "### Import Library"
   ]
  },
  {
   "cell_type": "code",
   "execution_count": 3,
   "metadata": {},
   "outputs": [],
   "source": [
    "import pandas as pd\n",
    "import matplotlib.pyplot as plt\n",
    "import seaborn as sns\n",
    "from sklearn.linear_model import LogisticRegression\n",
    "from sklearn.metrics import classification_report\n",
    "from sklearn.model_selection import train_test_split\n",
    "from sklearn.metrics import roc_auc_score"
   ]
  },
  {
   "cell_type": "markdown",
   "metadata": {},
   "source": [
    "### Load Data"
   ]
  },
  {
   "cell_type": "code",
   "execution_count": 4,
   "metadata": {},
   "outputs": [],
   "source": [
    "DataDiabets = pd.read_csv(r'D:\\data scientist\\data sheet\\diabetes2.csv')"
   ]
  },
  {
   "cell_type": "markdown",
   "metadata": {},
   "source": [
    "### Sneak Peak Data"
   ]
  },
  {
   "cell_type": "code",
   "execution_count": 3,
   "metadata": {},
   "outputs": [
    {
     "data": {
      "text/html": [
       "<div>\n",
       "<style scoped>\n",
       "    .dataframe tbody tr th:only-of-type {\n",
       "        vertical-align: middle;\n",
       "    }\n",
       "\n",
       "    .dataframe tbody tr th {\n",
       "        vertical-align: top;\n",
       "    }\n",
       "\n",
       "    .dataframe thead th {\n",
       "        text-align: right;\n",
       "    }\n",
       "</style>\n",
       "<table border=\"1\" class=\"dataframe\">\n",
       "  <thead>\n",
       "    <tr style=\"text-align: right;\">\n",
       "      <th></th>\n",
       "      <th>Pregnancies</th>\n",
       "      <th>Glucose</th>\n",
       "      <th>BloodPressure</th>\n",
       "      <th>SkinThickness</th>\n",
       "      <th>Insulin</th>\n",
       "      <th>BMI</th>\n",
       "      <th>DiabetesPedigreeFunction</th>\n",
       "      <th>Age</th>\n",
       "      <th>Outcome</th>\n",
       "    </tr>\n",
       "  </thead>\n",
       "  <tbody>\n",
       "    <tr>\n",
       "      <td>0</td>\n",
       "      <td>6</td>\n",
       "      <td>148</td>\n",
       "      <td>72</td>\n",
       "      <td>35</td>\n",
       "      <td>0</td>\n",
       "      <td>33.6</td>\n",
       "      <td>0.627</td>\n",
       "      <td>50</td>\n",
       "      <td>1</td>\n",
       "    </tr>\n",
       "    <tr>\n",
       "      <td>1</td>\n",
       "      <td>1</td>\n",
       "      <td>85</td>\n",
       "      <td>66</td>\n",
       "      <td>29</td>\n",
       "      <td>0</td>\n",
       "      <td>26.6</td>\n",
       "      <td>0.351</td>\n",
       "      <td>31</td>\n",
       "      <td>0</td>\n",
       "    </tr>\n",
       "    <tr>\n",
       "      <td>2</td>\n",
       "      <td>8</td>\n",
       "      <td>183</td>\n",
       "      <td>64</td>\n",
       "      <td>0</td>\n",
       "      <td>0</td>\n",
       "      <td>23.3</td>\n",
       "      <td>0.672</td>\n",
       "      <td>32</td>\n",
       "      <td>1</td>\n",
       "    </tr>\n",
       "    <tr>\n",
       "      <td>3</td>\n",
       "      <td>1</td>\n",
       "      <td>89</td>\n",
       "      <td>66</td>\n",
       "      <td>23</td>\n",
       "      <td>94</td>\n",
       "      <td>28.1</td>\n",
       "      <td>0.167</td>\n",
       "      <td>21</td>\n",
       "      <td>0</td>\n",
       "    </tr>\n",
       "    <tr>\n",
       "      <td>4</td>\n",
       "      <td>0</td>\n",
       "      <td>137</td>\n",
       "      <td>40</td>\n",
       "      <td>35</td>\n",
       "      <td>168</td>\n",
       "      <td>43.1</td>\n",
       "      <td>2.288</td>\n",
       "      <td>33</td>\n",
       "      <td>1</td>\n",
       "    </tr>\n",
       "  </tbody>\n",
       "</table>\n",
       "</div>"
      ],
      "text/plain": [
       "   Pregnancies  Glucose  BloodPressure  SkinThickness  Insulin   BMI  \\\n",
       "0            6      148             72             35        0  33.6   \n",
       "1            1       85             66             29        0  26.6   \n",
       "2            8      183             64              0        0  23.3   \n",
       "3            1       89             66             23       94  28.1   \n",
       "4            0      137             40             35      168  43.1   \n",
       "\n",
       "   DiabetesPedigreeFunction  Age  Outcome  \n",
       "0                     0.627   50        1  \n",
       "1                     0.351   31        0  \n",
       "2                     0.672   32        1  \n",
       "3                     0.167   21        0  \n",
       "4                     2.288   33        1  "
      ]
     },
     "execution_count": 3,
     "metadata": {},
     "output_type": "execute_result"
    }
   ],
   "source": [
    "#melihat 5 data teratas\n",
    "DataDiabets.head()"
   ]
  },
  {
   "cell_type": "code",
   "execution_count": 11,
   "metadata": {},
   "outputs": [
    {
     "data": {
      "text/html": [
       "<div>\n",
       "<style scoped>\n",
       "    .dataframe tbody tr th:only-of-type {\n",
       "        vertical-align: middle;\n",
       "    }\n",
       "\n",
       "    .dataframe tbody tr th {\n",
       "        vertical-align: top;\n",
       "    }\n",
       "\n",
       "    .dataframe thead th {\n",
       "        text-align: right;\n",
       "    }\n",
       "</style>\n",
       "<table border=\"1\" class=\"dataframe\">\n",
       "  <thead>\n",
       "    <tr style=\"text-align: right;\">\n",
       "      <th></th>\n",
       "      <th>Pregnancies</th>\n",
       "      <th>Glucose</th>\n",
       "      <th>BloodPressure</th>\n",
       "      <th>SkinThickness</th>\n",
       "      <th>Insulin</th>\n",
       "      <th>BMI</th>\n",
       "      <th>DiabetesPedigreeFunction</th>\n",
       "      <th>Age</th>\n",
       "      <th>Outcome</th>\n",
       "    </tr>\n",
       "  </thead>\n",
       "  <tbody>\n",
       "    <tr>\n",
       "      <td>763</td>\n",
       "      <td>10</td>\n",
       "      <td>101</td>\n",
       "      <td>76</td>\n",
       "      <td>48</td>\n",
       "      <td>180</td>\n",
       "      <td>32.9</td>\n",
       "      <td>0.171</td>\n",
       "      <td>63</td>\n",
       "      <td>0</td>\n",
       "    </tr>\n",
       "    <tr>\n",
       "      <td>764</td>\n",
       "      <td>2</td>\n",
       "      <td>122</td>\n",
       "      <td>70</td>\n",
       "      <td>27</td>\n",
       "      <td>0</td>\n",
       "      <td>36.8</td>\n",
       "      <td>0.340</td>\n",
       "      <td>27</td>\n",
       "      <td>0</td>\n",
       "    </tr>\n",
       "    <tr>\n",
       "      <td>765</td>\n",
       "      <td>5</td>\n",
       "      <td>121</td>\n",
       "      <td>72</td>\n",
       "      <td>23</td>\n",
       "      <td>112</td>\n",
       "      <td>26.2</td>\n",
       "      <td>0.245</td>\n",
       "      <td>30</td>\n",
       "      <td>0</td>\n",
       "    </tr>\n",
       "    <tr>\n",
       "      <td>766</td>\n",
       "      <td>1</td>\n",
       "      <td>126</td>\n",
       "      <td>60</td>\n",
       "      <td>0</td>\n",
       "      <td>0</td>\n",
       "      <td>30.1</td>\n",
       "      <td>0.349</td>\n",
       "      <td>47</td>\n",
       "      <td>1</td>\n",
       "    </tr>\n",
       "    <tr>\n",
       "      <td>767</td>\n",
       "      <td>1</td>\n",
       "      <td>93</td>\n",
       "      <td>70</td>\n",
       "      <td>31</td>\n",
       "      <td>0</td>\n",
       "      <td>30.4</td>\n",
       "      <td>0.315</td>\n",
       "      <td>23</td>\n",
       "      <td>0</td>\n",
       "    </tr>\n",
       "  </tbody>\n",
       "</table>\n",
       "</div>"
      ],
      "text/plain": [
       "     Pregnancies  Glucose  BloodPressure  SkinThickness  Insulin   BMI  \\\n",
       "763           10      101             76             48      180  32.9   \n",
       "764            2      122             70             27        0  36.8   \n",
       "765            5      121             72             23      112  26.2   \n",
       "766            1      126             60              0        0  30.1   \n",
       "767            1       93             70             31        0  30.4   \n",
       "\n",
       "     DiabetesPedigreeFunction  Age  Outcome  \n",
       "763                     0.171   63        0  \n",
       "764                     0.340   27        0  \n",
       "765                     0.245   30        0  \n",
       "766                     0.349   47        1  \n",
       "767                     0.315   23        0  "
      ]
     },
     "execution_count": 11,
     "metadata": {},
     "output_type": "execute_result"
    }
   ],
   "source": [
    "#melihat 5 data terbawah\n",
    "DataDiabets.tail()"
   ]
  },
  {
   "cell_type": "markdown",
   "metadata": {},
   "source": [
    "  Saya tampilakan keterangan setiap vaiabel:\n",
    "- Pregnancies                : bulan kehamilan\n",
    "- Glukosa                    : Kadar glukosa dalam tubuh\n",
    "- Blood Pressure             : Tekanan Darah\n",
    "- Skin Thickness             : Ketebalan kulit\n",
    "- Insulin                    : Kadar insulin dalam darah\n",
    "- BMI                        : Angka yang menentukan apakah berat badan ideal , kurang atau berlebih\n",
    "- DiabetesPedigreeFunction   : Nilai peluang terkena diabets karena keturunan\n",
    "- Outcome                    : Hasil dari analisis apakah pasien tersebut terkena penyakit diabetes atau tidak. 0 = tidak terkena diabetes, 1 = terkena diabetes"
   ]
  },
  {
   "cell_type": "code",
   "execution_count": 6,
   "metadata": {},
   "outputs": [
    {
     "data": {
      "text/plain": [
       "(768, 9)"
      ]
     },
     "execution_count": 6,
     "metadata": {},
     "output_type": "execute_result"
    }
   ],
   "source": [
    "#melihat jumlah baris dan kolom\n",
    "DataDiabets.shape"
   ]
  },
  {
   "cell_type": "code",
   "execution_count": 7,
   "metadata": {},
   "outputs": [
    {
     "name": "stdout",
     "output_type": "stream",
     "text": [
      "<class 'pandas.core.frame.DataFrame'>\n",
      "RangeIndex: 768 entries, 0 to 767\n",
      "Data columns (total 9 columns):\n",
      "Pregnancies                 768 non-null int64\n",
      "Glucose                     768 non-null int64\n",
      "BloodPressure               768 non-null int64\n",
      "SkinThickness               768 non-null int64\n",
      "Insulin                     768 non-null int64\n",
      "BMI                         768 non-null float64\n",
      "DiabetesPedigreeFunction    768 non-null float64\n",
      "Age                         768 non-null int64\n",
      "Outcome                     768 non-null int64\n",
      "dtypes: float64(2), int64(7)\n",
      "memory usage: 54.1 KB\n"
     ]
    }
   ],
   "source": [
    "#informasi umum dari data\n",
    "DataDiabets.info()"
   ]
  },
  {
   "cell_type": "markdown",
   "metadata": {},
   "source": [
    "### Handling Missing Values"
   ]
  },
  {
   "cell_type": "code",
   "execution_count": 8,
   "metadata": {},
   "outputs": [
    {
     "data": {
      "text/plain": [
       "Pregnancies                 0\n",
       "Glucose                     0\n",
       "BloodPressure               0\n",
       "SkinThickness               0\n",
       "Insulin                     0\n",
       "BMI                         0\n",
       "DiabetesPedigreeFunction    0\n",
       "Age                         0\n",
       "Outcome                     0\n",
       "dtype: int64"
      ]
     },
     "execution_count": 8,
     "metadata": {},
     "output_type": "execute_result"
    }
   ],
   "source": [
    "#melihat data yang kosong\n",
    "DataDiabets.isnull().sum()"
   ]
  },
  {
   "cell_type": "markdown",
   "metadata": {},
   "source": [
    "### Exploratory Data Analysis"
   ]
  },
  {
   "cell_type": "code",
   "execution_count": 10,
   "metadata": {},
   "outputs": [
    {
     "data": {
      "text/plain": [
       "<matplotlib.axes._subplots.AxesSubplot at 0x1b033da7708>"
      ]
     },
     "execution_count": 10,
     "metadata": {},
     "output_type": "execute_result"
    },
    {
     "data": {
      "image/png": "[encoded data removed]",
      "text/plain": [
       "<Figure size 432x288 with 1 Axes>"
      ]
     },
     "metadata": {
      "needs_background": "light"
     },
     "output_type": "display_data"
    }
   ],
   "source": [
    "#univariate analysis target\n",
    "sns.countplot(DataDiabets['Outcome'])"
   ]
  },
  {
   "cell_type": "markdown",
   "metadata": {},
   "source": [
    "- Jumlah nilai 0 dan 1 berbeda jauh.\n",
    "- Nilai 0 untuk Heart Disease.\n",
    "- Nilai 1 untuk No Heart Disease."
   ]
  },
  {
   "cell_type": "code",
   "execution_count": 17,
   "metadata": {},
   "outputs": [
    {
     "data": {
      "text/plain": [
       "<matplotlib.axes._subplots.AxesSubplot at 0x20437c37108>"
      ]
     },
     "execution_count": 17,
     "metadata": {},
     "output_type": "execute_result"
    },
    {
     "data": {
      "image/png": "[encoded data removed]",
      "text/plain": [
       "<Figure size 1440x288 with 2 Axes>"
      ]
     },
     "metadata": {
      "needs_background": "light"
     },
     "output_type": "display_data"
    }
   ],
   "source": [
    "#univariate analysis Glucose\n",
    "\n",
    "f= plt.figure(figsize=(20,4))\n",
    "\n",
    "f.add_subplot(1,2,1)\n",
    "sns.distplot(DataDiabets['Glucose'])\n",
    "\n",
    "f.add_subplot(1,2,2)\n",
    "sns.boxplot(DataDiabets['Glucose'])\n",
    "\n"
   ]
  },
  {
   "cell_type": "markdown",
   "metadata": {},
   "source": [
    "- Glukosa paling banyak orang pada 110 .Glukosa pada takaran 50 , tidak ada\n",
    "- Pada data Glukosa terdapat outline yaitu satu data\n"
   ]
  },
  {
   "cell_type": "code",
   "execution_count": 9,
   "metadata": {},
   "outputs": [
    {
     "data": {
      "text/plain": [
       "<matplotlib.axes._subplots.AxesSubplot at 0x20436ee9a88>"
      ]
     },
     "execution_count": 9,
     "metadata": {},
     "output_type": "execute_result"
    },
    {
     "data": {
      "image/png": "[encoded data removed]",
      "text/plain": [
       "<Figure size 1440x288 with 2 Axes>"
      ]
     },
     "metadata": {
      "needs_background": "light"
     },
     "output_type": "display_data"
    }
   ],
   "source": [
    "#univariate analysis Pregnancies\n",
    "\n",
    "f= plt.figure(figsize=(20,4))\n",
    "\n",
    "f.add_subplot(1,2,1)\n",
    "sns.distplot(DataDiabets['Pregnancies'])\n",
    "\n",
    "f.add_subplot(1,2,2)\n",
    "sns.boxplot(DataDiabets['Pregnancies'])\n",
    "\n"
   ]
  },
  {
   "cell_type": "markdown",
   "metadata": {},
   "source": [
    "- Pregnancies atau kehamilan paling banyak pada angka ke 0 atau awal bulan kelahiran\n",
    "- boxplot pada data kehamilan atau pregnancies"
   ]
  },
  {
   "cell_type": "code",
   "execution_count": 10,
   "metadata": {},
   "outputs": [
    {
     "data": {
      "text/plain": [
       "<matplotlib.axes._subplots.AxesSubplot at 0x20436dfa988>"
      ]
     },
     "execution_count": 10,
     "metadata": {},
     "output_type": "execute_result"
    },
    {
     "data": {
      "image/png": "[encoded data removed]",
      "text/plain": [
       "<Figure size 1440x288 with 2 Axes>"
      ]
     },
     "metadata": {
      "needs_background": "light"
     },
     "output_type": "display_data"
    }
   ],
   "source": [
    "#univariate analysis BloodPressure\n",
    "\n",
    "f= plt.figure(figsize=(20,4))\n",
    "\n",
    "f.add_subplot(1,2,1)\n",
    "sns.distplot(DataDiabets['BloodPressure'])\n",
    "\n",
    "f.add_subplot(1,2,2)\n",
    "sns.boxplot(DataDiabets['BloodPressure'])\n",
    "\n"
   ]
  },
  {
   "cell_type": "markdown",
   "metadata": {},
   "source": [
    "- Pada blood pressure pada data paling banyak pada 70\n",
    "- terdapat 6 outline"
   ]
  },
  {
   "cell_type": "code",
   "execution_count": 11,
   "metadata": {},
   "outputs": [
    {
     "data": {
      "text/plain": [
       "<matplotlib.axes._subplots.AxesSubplot at 0x204368db7c8>"
      ]
     },
     "execution_count": 11,
     "metadata": {},
     "output_type": "execute_result"
    },
    {
     "data": {
      "image/png": "[encoded data removed]",
      "text/plain": [
       "<Figure size 1440x288 with 2 Axes>"
      ]
     },
     "metadata": {
      "needs_background": "light"
     },
     "output_type": "display_data"
    }
   ],
   "source": [
    "#univariate analysis SkinThickness\n",
    "\n",
    "f= plt.figure(figsize=(20,4))\n",
    "\n",
    "f.add_subplot(1,2,1)\n",
    "sns.distplot(DataDiabets['SkinThickness'])\n",
    "\n",
    "f.add_subplot(1,2,2)\n",
    "sns.boxplot(DataDiabets['SkinThickness'])\n",
    "\n"
   ]
  },
  {
   "cell_type": "markdown",
   "metadata": {},
   "source": [
    "- Skin Thkickness kebanyakan angka 0\n",
    "- Hanya ada 1 outline"
   ]
  },
  {
   "cell_type": "code",
   "execution_count": 12,
   "metadata": {},
   "outputs": [
    {
     "data": {
      "text/plain": [
       "<matplotlib.axes._subplots.AxesSubplot at 0x20437129888>"
      ]
     },
     "execution_count": 12,
     "metadata": {},
     "output_type": "execute_result"
    },
    {
     "data": {
      "image/png": "[encoded data removed]",
      "text/plain": [
       "<Figure size 1440x288 with 2 Axes>"
      ]
     },
     "metadata": {
      "needs_background": "light"
     },
     "output_type": "display_data"
    }
   ],
   "source": [
    "#univariate analysis Insulin\n",
    "\n",
    "f= plt.figure(figsize=(20,4))\n",
    "\n",
    "f.add_subplot(1,2,1)\n",
    "sns.distplot(DataDiabets['Insulin'])\n",
    "\n",
    "f.add_subplot(1,2,2)\n",
    "sns.boxplot(DataDiabets['Insulin'])\n",
    "\n"
   ]
  },
  {
   "cell_type": "markdown",
   "metadata": {},
   "source": [
    "- Insulin paling banyak terdapat pada 30 dan 40\n",
    "- Banyak terdapat banyak outline"
   ]
  },
  {
   "cell_type": "code",
   "execution_count": 13,
   "metadata": {},
   "outputs": [
    {
     "data": {
      "text/plain": [
       "<matplotlib.axes._subplots.AxesSubplot at 0x204373beb08>"
      ]
     },
     "execution_count": 13,
     "metadata": {},
     "output_type": "execute_result"
    },
    {
     "data": {
      "image/png": "[encoded data removed]",
      "text/plain": [
       "<Figure size 1440x288 with 2 Axes>"
      ]
     },
     "metadata": {
      "needs_background": "light"
     },
     "output_type": "display_data"
    }
   ],
   "source": [
    "#univariate analysis BMI\n",
    "\n",
    "f= plt.figure(figsize=(20,4))\n",
    "\n",
    "f.add_subplot(1,2,1)\n",
    "sns.distplot(DataDiabets['BMI'])\n",
    "\n",
    "f.add_subplot(1,2,2)\n",
    "sns.boxplot(DataDiabets['BMI'])\n",
    "\n"
   ]
  },
  {
   "cell_type": "markdown",
   "metadata": {},
   "source": [
    "- Puncak BMI pada 30\n",
    "- Terdapat banyak outline pada data BMI"
   ]
  },
  {
   "cell_type": "code",
   "execution_count": 14,
   "metadata": {},
   "outputs": [
    {
     "data": {
      "text/plain": [
       "<matplotlib.axes._subplots.AxesSubplot at 0x20437a64348>"
      ]
     },
     "execution_count": 14,
     "metadata": {},
     "output_type": "execute_result"
    },
    {
     "data": {
      "image/png": "[encoded data removed]",
      "text/plain": [
       "<Figure size 1440x288 with 2 Axes>"
      ]
     },
     "metadata": {
      "needs_background": "light"
     },
     "output_type": "display_data"
    }
   ],
   "source": [
    "#univariate analysis DiabetesPedigreeFunction\n",
    "\n",
    "f= plt.figure(figsize=(20,4))\n",
    "\n",
    "f.add_subplot(1,2,1)\n",
    "sns.distplot(DataDiabets['DiabetesPedigreeFunction'])\n",
    "\n",
    "f.add_subplot(1,2,2)\n",
    "sns.boxplot(DataDiabets['DiabetesPedigreeFunction'])\n",
    "\n"
   ]
  },
  {
   "cell_type": "markdown",
   "metadata": {},
   "source": [
    "- Data DiabetesPedigreeFunction pada puncak 0.4\n",
    "- Terdapat banyak outline "
   ]
  },
  {
   "cell_type": "code",
   "execution_count": 15,
   "metadata": {},
   "outputs": [
    {
     "data": {
      "text/plain": [
       "<matplotlib.axes._subplots.AxesSubplot at 0x2043781fe48>"
      ]
     },
     "execution_count": 15,
     "metadata": {},
     "output_type": "execute_result"
    },
    {
     "data": {
      "image/png": "[encoded data removed]",
      "text/plain": [
       "<Figure size 1440x288 with 2 Axes>"
      ]
     },
     "metadata": {
      "needs_background": "light"
     },
     "output_type": "display_data"
    }
   ],
   "source": [
    "#univariate analysis Age\n",
    "\n",
    "f= plt.figure(figsize=(20,4))\n",
    "\n",
    "f.add_subplot(1,2,1)\n",
    "sns.distplot(DataDiabets['Age'])\n",
    "\n",
    "f.add_subplot(1,2,2)\n",
    "sns.boxplot(DataDiabets['Age'])\n",
    "\n"
   ]
  },
  {
   "cell_type": "markdown",
   "metadata": {},
   "source": [
    "- Data pada Age paling banyak terdapat pada 25 tahun\n",
    "- Data Age terdapat 6 outline"
   ]
  },
  {
   "cell_type": "code",
   "execution_count": 7,
   "metadata": {},
   "outputs": [
    {
     "data": {
      "text/html": [
       "<style  type=\"text/css\" >\n",
       "    #T_fd4dfbf6_703b_11ea_8590_b0c090a0eab8row0_col0 {\n",
       "            background-color:  #023858;\n",
       "            color:  #f1f1f1;\n",
       "        }    #T_fd4dfbf6_703b_11ea_8590_b0c090a0eab8row0_col1 {\n",
       "            background-color:  #f4edf6;\n",
       "            color:  #000000;\n",
       "        }    #T_fd4dfbf6_703b_11ea_8590_b0c090a0eab8row0_col2 {\n",
       "            background-color:  #f0eaf4;\n",
       "            color:  #000000;\n",
       "        }    #T_fd4dfbf6_703b_11ea_8590_b0c090a0eab8row0_col3 {\n",
       "            background-color:  #fbf3f9;\n",
       "            color:  #000000;\n",
       "        }    #T_fd4dfbf6_703b_11ea_8590_b0c090a0eab8row0_col4 {\n",
       "            background-color:  #fff7fb;\n",
       "            color:  #000000;\n",
       "        }    #T_fd4dfbf6_703b_11ea_8590_b0c090a0eab8row0_col5 {\n",
       "            background-color:  #fff7fb;\n",
       "            color:  #000000;\n",
       "        }    #T_fd4dfbf6_703b_11ea_8590_b0c090a0eab8row0_col6 {\n",
       "            background-color:  #fff7fb;\n",
       "            color:  #000000;\n",
       "        }    #T_fd4dfbf6_703b_11ea_8590_b0c090a0eab8row0_col7 {\n",
       "            background-color:  #4697c4;\n",
       "            color:  #000000;\n",
       "        }    #T_fd4dfbf6_703b_11ea_8590_b0c090a0eab8row0_col8 {\n",
       "            background-color:  #e3e0ee;\n",
       "            color:  #000000;\n",
       "        }    #T_fd4dfbf6_703b_11ea_8590_b0c090a0eab8row1_col0 {\n",
       "            background-color:  #dddbec;\n",
       "            color:  #000000;\n",
       "        }    #T_fd4dfbf6_703b_11ea_8590_b0c090a0eab8row1_col1 {\n",
       "            background-color:  #023858;\n",
       "            color:  #f1f1f1;\n",
       "        }    #T_fd4dfbf6_703b_11ea_8590_b0c090a0eab8row1_col2 {\n",
       "            background-color:  #eee8f3;\n",
       "            color:  #000000;\n",
       "        }    #T_fd4dfbf6_703b_11ea_8590_b0c090a0eab8row1_col3 {\n",
       "            background-color:  #e6e2ef;\n",
       "            color:  #000000;\n",
       "        }    #T_fd4dfbf6_703b_11ea_8590_b0c090a0eab8row1_col4 {\n",
       "            background-color:  #a5bddb;\n",
       "            color:  #000000;\n",
       "        }    #T_fd4dfbf6_703b_11ea_8590_b0c090a0eab8row1_col5 {\n",
       "            background-color:  #d9d8ea;\n",
       "            color:  #000000;\n",
       "        }    #T_fd4dfbf6_703b_11ea_8590_b0c090a0eab8row1_col6 {\n",
       "            background-color:  #e3e0ee;\n",
       "            color:  #000000;\n",
       "        }    #T_fd4dfbf6_703b_11ea_8590_b0c090a0eab8row1_col7 {\n",
       "            background-color:  #b3c3de;\n",
       "            color:  #000000;\n",
       "        }    #T_fd4dfbf6_703b_11ea_8590_b0c090a0eab8row1_col8 {\n",
       "            background-color:  #91b5d6;\n",
       "            color:  #000000;\n",
       "        }    #T_fd4dfbf6_703b_11ea_8590_b0c090a0eab8row2_col0 {\n",
       "            background-color:  #dad9ea;\n",
       "            color:  #000000;\n",
       "        }    #T_fd4dfbf6_703b_11ea_8590_b0c090a0eab8row2_col1 {\n",
       "            background-color:  #f0eaf4;\n",
       "            color:  #000000;\n",
       "        }    #T_fd4dfbf6_703b_11ea_8590_b0c090a0eab8row2_col2 {\n",
       "            background-color:  #023858;\n",
       "            color:  #f1f1f1;\n",
       "        }    #T_fd4dfbf6_703b_11ea_8590_b0c090a0eab8row2_col3 {\n",
       "            background-color:  #c4cbe3;\n",
       "            color:  #000000;\n",
       "        }    #T_fd4dfbf6_703b_11ea_8590_b0c090a0eab8row2_col4 {\n",
       "            background-color:  #e7e3f0;\n",
       "            color:  #000000;\n",
       "        }    #T_fd4dfbf6_703b_11ea_8590_b0c090a0eab8row2_col5 {\n",
       "            background-color:  #cacee5;\n",
       "            color:  #000000;\n",
       "        }    #T_fd4dfbf6_703b_11ea_8590_b0c090a0eab8row2_col6 {\n",
       "            background-color:  #f4eef6;\n",
       "            color:  #000000;\n",
       "        }    #T_fd4dfbf6_703b_11ea_8590_b0c090a0eab8row2_col7 {\n",
       "            background-color:  #b9c6e0;\n",
       "            color:  #000000;\n",
       "        }    #T_fd4dfbf6_703b_11ea_8590_b0c090a0eab8row2_col8 {\n",
       "            background-color:  #fff7fb;\n",
       "            color:  #000000;\n",
       "        }    #T_fd4dfbf6_703b_11ea_8590_b0c090a0eab8row3_col0 {\n",
       "            background-color:  #fff7fb;\n",
       "            color:  #000000;\n",
       "        }    #T_fd4dfbf6_703b_11ea_8590_b0c090a0eab8row3_col1 {\n",
       "            background-color:  #fff7fb;\n",
       "            color:  #000000;\n",
       "        }    #T_fd4dfbf6_703b_11ea_8590_b0c090a0eab8row3_col2 {\n",
       "            background-color:  #e1dfed;\n",
       "            color:  #000000;\n",
       "        }    #T_fd4dfbf6_703b_11ea_8590_b0c090a0eab8row3_col3 {\n",
       "            background-color:  #023858;\n",
       "            color:  #f1f1f1;\n",
       "        }    #T_fd4dfbf6_703b_11ea_8590_b0c090a0eab8row3_col4 {\n",
       "            background-color:  #7eadd1;\n",
       "            color:  #000000;\n",
       "        }    #T_fd4dfbf6_703b_11ea_8590_b0c090a0eab8row3_col5 {\n",
       "            background-color:  #a4bcda;\n",
       "            color:  #000000;\n",
       "        }    #T_fd4dfbf6_703b_11ea_8590_b0c090a0eab8row3_col6 {\n",
       "            background-color:  #d9d8ea;\n",
       "            color:  #000000;\n",
       "        }    #T_fd4dfbf6_703b_11ea_8590_b0c090a0eab8row3_col7 {\n",
       "            background-color:  #fff7fb;\n",
       "            color:  #000000;\n",
       "        }    #T_fd4dfbf6_703b_11ea_8590_b0c090a0eab8row3_col8 {\n",
       "            background-color:  #fef6fa;\n",
       "            color:  #000000;\n",
       "        }    #T_fd4dfbf6_703b_11ea_8590_b0c090a0eab8row4_col0 {\n",
       "            background-color:  #fef6fb;\n",
       "            color:  #000000;\n",
       "        }    #T_fd4dfbf6_703b_11ea_8590_b0c090a0eab8row4_col1 {\n",
       "            background-color:  #c2cbe2;\n",
       "            color:  #000000;\n",
       "        }    #T_fd4dfbf6_703b_11ea_8590_b0c090a0eab8row4_col2 {\n",
       "            background-color:  #f8f1f8;\n",
       "            color:  #000000;\n",
       "        }    #T_fd4dfbf6_703b_11ea_8590_b0c090a0eab8row4_col3 {\n",
       "            background-color:  #76aad0;\n",
       "            color:  #000000;\n",
       "        }    #T_fd4dfbf6_703b_11ea_8590_b0c090a0eab8row4_col4 {\n",
       "            background-color:  #023858;\n",
       "            color:  #f1f1f1;\n",
       "        }    #T_fd4dfbf6_703b_11ea_8590_b0c090a0eab8row4_col5 {\n",
       "            background-color:  #e0dded;\n",
       "            color:  #000000;\n",
       "        }    #T_fd4dfbf6_703b_11ea_8590_b0c090a0eab8row4_col6 {\n",
       "            background-color:  #d9d8ea;\n",
       "            color:  #000000;\n",
       "        }    #T_fd4dfbf6_703b_11ea_8590_b0c090a0eab8row4_col7 {\n",
       "            background-color:  #f5eff6;\n",
       "            color:  #000000;\n",
       "        }    #T_fd4dfbf6_703b_11ea_8590_b0c090a0eab8row4_col8 {\n",
       "            background-color:  #f5eef6;\n",
       "            color:  #000000;\n",
       "        }    #T_fd4dfbf6_703b_11ea_8590_b0c090a0eab8row5_col0 {\n",
       "            background-color:  #f1ebf5;\n",
       "            color:  #000000;\n",
       "        }    #T_fd4dfbf6_703b_11ea_8590_b0c090a0eab8row5_col1 {\n",
       "            background-color:  #e1dfed;\n",
       "            color:  #000000;\n",
       "        }    #T_fd4dfbf6_703b_11ea_8590_b0c090a0eab8row5_col2 {\n",
       "            background-color:  #d0d1e6;\n",
       "            color:  #000000;\n",
       "        }    #T_fd4dfbf6_703b_11ea_8590_b0c090a0eab8row5_col3 {\n",
       "            background-color:  #86b0d3;\n",
       "            color:  #000000;\n",
       "        }    #T_fd4dfbf6_703b_11ea_8590_b0c090a0eab8row5_col4 {\n",
       "            background-color:  #d0d1e6;\n",
       "            color:  #000000;\n",
       "        }    #T_fd4dfbf6_703b_11ea_8590_b0c090a0eab8row5_col5 {\n",
       "            background-color:  #023858;\n",
       "            color:  #f1f1f1;\n",
       "        }    #T_fd4dfbf6_703b_11ea_8590_b0c090a0eab8row5_col6 {\n",
       "            background-color:  #e2dfee;\n",
       "            color:  #000000;\n",
       "        }    #T_fd4dfbf6_703b_11ea_8590_b0c090a0eab8row5_col7 {\n",
       "            background-color:  #eae6f1;\n",
       "            color:  #000000;\n",
       "        }    #T_fd4dfbf6_703b_11ea_8590_b0c090a0eab8row5_col8 {\n",
       "            background-color:  #d2d2e7;\n",
       "            color:  #000000;\n",
       "        }    #T_fd4dfbf6_703b_11ea_8590_b0c090a0eab8row6_col0 {\n",
       "            background-color:  #f8f1f8;\n",
       "            color:  #000000;\n",
       "        }    #T_fd4dfbf6_703b_11ea_8590_b0c090a0eab8row6_col1 {\n",
       "            background-color:  #f2ecf5;\n",
       "            color:  #000000;\n",
       "        }    #T_fd4dfbf6_703b_11ea_8590_b0c090a0eab8row6_col2 {\n",
       "            background-color:  #fff7fb;\n",
       "            color:  #000000;\n",
       "        }    #T_fd4dfbf6_703b_11ea_8590_b0c090a0eab8row6_col3 {\n",
       "            background-color:  #cacee5;\n",
       "            color:  #000000;\n",
       "        }    #T_fd4dfbf6_703b_11ea_8590_b0c090a0eab8row6_col4 {\n",
       "            background-color:  #d2d3e7;\n",
       "            color:  #000000;\n",
       "        }    #T_fd4dfbf6_703b_11ea_8590_b0c090a0eab8row6_col5 {\n",
       "            background-color:  #ece7f2;\n",
       "            color:  #000000;\n",
       "        }    #T_fd4dfbf6_703b_11ea_8590_b0c090a0eab8row6_col6 {\n",
       "            background-color:  #023858;\n",
       "            color:  #f1f1f1;\n",
       "        }    #T_fd4dfbf6_703b_11ea_8590_b0c090a0eab8row6_col7 {\n",
       "            background-color:  #ebe6f2;\n",
       "            color:  #000000;\n",
       "        }    #T_fd4dfbf6_703b_11ea_8590_b0c090a0eab8row6_col8 {\n",
       "            background-color:  #eee8f3;\n",
       "            color:  #000000;\n",
       "        }    #T_fd4dfbf6_703b_11ea_8590_b0c090a0eab8row7_col0 {\n",
       "            background-color:  #4c99c5;\n",
       "            color:  #000000;\n",
       "        }    #T_fd4dfbf6_703b_11ea_8590_b0c090a0eab8row7_col1 {\n",
       "            background-color:  #d8d7e9;\n",
       "            color:  #000000;\n",
       "        }    #T_fd4dfbf6_703b_11ea_8590_b0c090a0eab8row7_col2 {\n",
       "            background-color:  #dad9ea;\n",
       "            color:  #000000;\n",
       "        }    #T_fd4dfbf6_703b_11ea_8590_b0c090a0eab8row7_col3 {\n",
       "            background-color:  #fff7fb;\n",
       "            color:  #000000;\n",
       "        }    #T_fd4dfbf6_703b_11ea_8590_b0c090a0eab8row7_col4 {\n",
       "            background-color:  #fbf3f9;\n",
       "            color:  #000000;\n",
       "        }    #T_fd4dfbf6_703b_11ea_8590_b0c090a0eab8row7_col5 {\n",
       "            background-color:  #fdf5fa;\n",
       "            color:  #000000;\n",
       "        }    #T_fd4dfbf6_703b_11ea_8590_b0c090a0eab8row7_col6 {\n",
       "            background-color:  #f5eff6;\n",
       "            color:  #000000;\n",
       "        }    #T_fd4dfbf6_703b_11ea_8590_b0c090a0eab8row7_col7 {\n",
       "            background-color:  #023858;\n",
       "            color:  #f1f1f1;\n",
       "        }    #T_fd4dfbf6_703b_11ea_8590_b0c090a0eab8row7_col8 {\n",
       "            background-color:  #dfddec;\n",
       "            color:  #000000;\n",
       "        }    #T_fd4dfbf6_703b_11ea_8590_b0c090a0eab8row8_col0 {\n",
       "            background-color:  #c6cce3;\n",
       "            color:  #000000;\n",
       "        }    #T_fd4dfbf6_703b_11ea_8590_b0c090a0eab8row8_col1 {\n",
       "            background-color:  #8eb3d5;\n",
       "            color:  #000000;\n",
       "        }    #T_fd4dfbf6_703b_11ea_8590_b0c090a0eab8row8_col2 {\n",
       "            background-color:  #fbf4f9;\n",
       "            color:  #000000;\n",
       "        }    #T_fd4dfbf6_703b_11ea_8590_b0c090a0eab8row8_col3 {\n",
       "            background-color:  #e2dfee;\n",
       "            color:  #000000;\n",
       "        }    #T_fd4dfbf6_703b_11ea_8590_b0c090a0eab8row8_col4 {\n",
       "            background-color:  #dedcec;\n",
       "            color:  #000000;\n",
       "        }    #T_fd4dfbf6_703b_11ea_8590_b0c090a0eab8row8_col5 {\n",
       "            background-color:  #c6cce3;\n",
       "            color:  #000000;\n",
       "        }    #T_fd4dfbf6_703b_11ea_8590_b0c090a0eab8row8_col6 {\n",
       "            background-color:  #dbdaeb;\n",
       "            color:  #000000;\n",
       "        }    #T_fd4dfbf6_703b_11ea_8590_b0c090a0eab8row8_col7 {\n",
       "            background-color:  #bbc7e0;\n",
       "            color:  #000000;\n",
       "        }    #T_fd4dfbf6_703b_11ea_8590_b0c090a0eab8row8_col8 {\n",
       "            background-color:  #023858;\n",
       "            color:  #f1f1f1;\n",
       "        }</style><table id=\"T_fd4dfbf6_703b_11ea_8590_b0c090a0eab8\" ><thead>    <tr>        <th class=\"blank level0\" ></th>        <th class=\"col_heading level0 col0\" >Pregnancies</th>        <th class=\"col_heading level0 col1\" >Glucose</th>        <th class=\"col_heading level0 col2\" >BloodPressure</th>        <th class=\"col_heading level0 col3\" >SkinThickness</th>        <th class=\"col_heading level0 col4\" >Insulin</th>        <th class=\"col_heading level0 col5\" >BMI</th>        <th class=\"col_heading level0 col6\" >DiabetesPedigreeFunction</th>        <th class=\"col_heading level0 col7\" >Age</th>        <th class=\"col_heading level0 col8\" >Outcome</th>    </tr></thead><tbody>\n",
       "                <tr>\n",
       "                        <th id=\"T_fd4dfbf6_703b_11ea_8590_b0c090a0eab8level0_row0\" class=\"row_heading level0 row0\" >Pregnancies</th>\n",
       "                        <td id=\"T_fd4dfbf6_703b_11ea_8590_b0c090a0eab8row0_col0\" class=\"data row0 col0\" >1</td>\n",
       "                        <td id=\"T_fd4dfbf6_703b_11ea_8590_b0c090a0eab8row0_col1\" class=\"data row0 col1\" >0.13</td>\n",
       "                        <td id=\"T_fd4dfbf6_703b_11ea_8590_b0c090a0eab8row0_col2\" class=\"data row0 col2\" >0.14</td>\n",
       "                        <td id=\"T_fd4dfbf6_703b_11ea_8590_b0c090a0eab8row0_col3\" class=\"data row0 col3\" >-0.082</td>\n",
       "                        <td id=\"T_fd4dfbf6_703b_11ea_8590_b0c090a0eab8row0_col4\" class=\"data row0 col4\" >-0.074</td>\n",
       "                        <td id=\"T_fd4dfbf6_703b_11ea_8590_b0c090a0eab8row0_col5\" class=\"data row0 col5\" >0.018</td>\n",
       "                        <td id=\"T_fd4dfbf6_703b_11ea_8590_b0c090a0eab8row0_col6\" class=\"data row0 col6\" >-0.034</td>\n",
       "                        <td id=\"T_fd4dfbf6_703b_11ea_8590_b0c090a0eab8row0_col7\" class=\"data row0 col7\" >0.54</td>\n",
       "                        <td id=\"T_fd4dfbf6_703b_11ea_8590_b0c090a0eab8row0_col8\" class=\"data row0 col8\" >0.22</td>\n",
       "            </tr>\n",
       "            <tr>\n",
       "                        <th id=\"T_fd4dfbf6_703b_11ea_8590_b0c090a0eab8level0_row1\" class=\"row_heading level0 row1\" >Glucose</th>\n",
       "                        <td id=\"T_fd4dfbf6_703b_11ea_8590_b0c090a0eab8row1_col0\" class=\"data row1 col0\" >0.13</td>\n",
       "                        <td id=\"T_fd4dfbf6_703b_11ea_8590_b0c090a0eab8row1_col1\" class=\"data row1 col1\" >1</td>\n",
       "                        <td id=\"T_fd4dfbf6_703b_11ea_8590_b0c090a0eab8row1_col2\" class=\"data row1 col2\" >0.15</td>\n",
       "                        <td id=\"T_fd4dfbf6_703b_11ea_8590_b0c090a0eab8row1_col3\" class=\"data row1 col3\" >0.057</td>\n",
       "                        <td id=\"T_fd4dfbf6_703b_11ea_8590_b0c090a0eab8row1_col4\" class=\"data row1 col4\" >0.33</td>\n",
       "                        <td id=\"T_fd4dfbf6_703b_11ea_8590_b0c090a0eab8row1_col5\" class=\"data row1 col5\" >0.22</td>\n",
       "                        <td id=\"T_fd4dfbf6_703b_11ea_8590_b0c090a0eab8row1_col6\" class=\"data row1 col6\" >0.14</td>\n",
       "                        <td id=\"T_fd4dfbf6_703b_11ea_8590_b0c090a0eab8row1_col7\" class=\"data row1 col7\" >0.26</td>\n",
       "                        <td id=\"T_fd4dfbf6_703b_11ea_8590_b0c090a0eab8row1_col8\" class=\"data row1 col8\" >0.47</td>\n",
       "            </tr>\n",
       "            <tr>\n",
       "                        <th id=\"T_fd4dfbf6_703b_11ea_8590_b0c090a0eab8level0_row2\" class=\"row_heading level0 row2\" >BloodPressure</th>\n",
       "                        <td id=\"T_fd4dfbf6_703b_11ea_8590_b0c090a0eab8row2_col0\" class=\"data row2 col0\" >0.14</td>\n",
       "                        <td id=\"T_fd4dfbf6_703b_11ea_8590_b0c090a0eab8row2_col1\" class=\"data row2 col1\" >0.15</td>\n",
       "                        <td id=\"T_fd4dfbf6_703b_11ea_8590_b0c090a0eab8row2_col2\" class=\"data row2 col2\" >1</td>\n",
       "                        <td id=\"T_fd4dfbf6_703b_11ea_8590_b0c090a0eab8row2_col3\" class=\"data row2 col3\" >0.21</td>\n",
       "                        <td id=\"T_fd4dfbf6_703b_11ea_8590_b0c090a0eab8row2_col4\" class=\"data row2 col4\" >0.089</td>\n",
       "                        <td id=\"T_fd4dfbf6_703b_11ea_8590_b0c090a0eab8row2_col5\" class=\"data row2 col5\" >0.28</td>\n",
       "                        <td id=\"T_fd4dfbf6_703b_11ea_8590_b0c090a0eab8row2_col6\" class=\"data row2 col6\" >0.041</td>\n",
       "                        <td id=\"T_fd4dfbf6_703b_11ea_8590_b0c090a0eab8row2_col7\" class=\"data row2 col7\" >0.24</td>\n",
       "                        <td id=\"T_fd4dfbf6_703b_11ea_8590_b0c090a0eab8row2_col8\" class=\"data row2 col8\" >0.065</td>\n",
       "            </tr>\n",
       "            <tr>\n",
       "                        <th id=\"T_fd4dfbf6_703b_11ea_8590_b0c090a0eab8level0_row3\" class=\"row_heading level0 row3\" >SkinThickness</th>\n",
       "                        <td id=\"T_fd4dfbf6_703b_11ea_8590_b0c090a0eab8row3_col0\" class=\"data row3 col0\" >-0.082</td>\n",
       "                        <td id=\"T_fd4dfbf6_703b_11ea_8590_b0c090a0eab8row3_col1\" class=\"data row3 col1\" >0.057</td>\n",
       "                        <td id=\"T_fd4dfbf6_703b_11ea_8590_b0c090a0eab8row3_col2\" class=\"data row3 col2\" >0.21</td>\n",
       "                        <td id=\"T_fd4dfbf6_703b_11ea_8590_b0c090a0eab8row3_col3\" class=\"data row3 col3\" >1</td>\n",
       "                        <td id=\"T_fd4dfbf6_703b_11ea_8590_b0c090a0eab8row3_col4\" class=\"data row3 col4\" >0.44</td>\n",
       "                        <td id=\"T_fd4dfbf6_703b_11ea_8590_b0c090a0eab8row3_col5\" class=\"data row3 col5\" >0.39</td>\n",
       "                        <td id=\"T_fd4dfbf6_703b_11ea_8590_b0c090a0eab8row3_col6\" class=\"data row3 col6\" >0.18</td>\n",
       "                        <td id=\"T_fd4dfbf6_703b_11ea_8590_b0c090a0eab8row3_col7\" class=\"data row3 col7\" >-0.11</td>\n",
       "                        <td id=\"T_fd4dfbf6_703b_11ea_8590_b0c090a0eab8row3_col8\" class=\"data row3 col8\" >0.075</td>\n",
       "            </tr>\n",
       "            <tr>\n",
       "                        <th id=\"T_fd4dfbf6_703b_11ea_8590_b0c090a0eab8level0_row4\" class=\"row_heading level0 row4\" >Insulin</th>\n",
       "                        <td id=\"T_fd4dfbf6_703b_11ea_8590_b0c090a0eab8row4_col0\" class=\"data row4 col0\" >-0.074</td>\n",
       "                        <td id=\"T_fd4dfbf6_703b_11ea_8590_b0c090a0eab8row4_col1\" class=\"data row4 col1\" >0.33</td>\n",
       "                        <td id=\"T_fd4dfbf6_703b_11ea_8590_b0c090a0eab8row4_col2\" class=\"data row4 col2\" >0.089</td>\n",
       "                        <td id=\"T_fd4dfbf6_703b_11ea_8590_b0c090a0eab8row4_col3\" class=\"data row4 col3\" >0.44</td>\n",
       "                        <td id=\"T_fd4dfbf6_703b_11ea_8590_b0c090a0eab8row4_col4\" class=\"data row4 col4\" >1</td>\n",
       "                        <td id=\"T_fd4dfbf6_703b_11ea_8590_b0c090a0eab8row4_col5\" class=\"data row4 col5\" >0.2</td>\n",
       "                        <td id=\"T_fd4dfbf6_703b_11ea_8590_b0c090a0eab8row4_col6\" class=\"data row4 col6\" >0.19</td>\n",
       "                        <td id=\"T_fd4dfbf6_703b_11ea_8590_b0c090a0eab8row4_col7\" class=\"data row4 col7\" >-0.042</td>\n",
       "                        <td id=\"T_fd4dfbf6_703b_11ea_8590_b0c090a0eab8row4_col8\" class=\"data row4 col8\" >0.13</td>\n",
       "            </tr>\n",
       "            <tr>\n",
       "                        <th id=\"T_fd4dfbf6_703b_11ea_8590_b0c090a0eab8level0_row5\" class=\"row_heading level0 row5\" >BMI</th>\n",
       "                        <td id=\"T_fd4dfbf6_703b_11ea_8590_b0c090a0eab8row5_col0\" class=\"data row5 col0\" >0.018</td>\n",
       "                        <td id=\"T_fd4dfbf6_703b_11ea_8590_b0c090a0eab8row5_col1\" class=\"data row5 col1\" >0.22</td>\n",
       "                        <td id=\"T_fd4dfbf6_703b_11ea_8590_b0c090a0eab8row5_col2\" class=\"data row5 col2\" >0.28</td>\n",
       "                        <td id=\"T_fd4dfbf6_703b_11ea_8590_b0c090a0eab8row5_col3\" class=\"data row5 col3\" >0.39</td>\n",
       "                        <td id=\"T_fd4dfbf6_703b_11ea_8590_b0c090a0eab8row5_col4\" class=\"data row5 col4\" >0.2</td>\n",
       "                        <td id=\"T_fd4dfbf6_703b_11ea_8590_b0c090a0eab8row5_col5\" class=\"data row5 col5\" >1</td>\n",
       "                        <td id=\"T_fd4dfbf6_703b_11ea_8590_b0c090a0eab8row5_col6\" class=\"data row5 col6\" >0.14</td>\n",
       "                        <td id=\"T_fd4dfbf6_703b_11ea_8590_b0c090a0eab8row5_col7\" class=\"data row5 col7\" >0.036</td>\n",
       "                        <td id=\"T_fd4dfbf6_703b_11ea_8590_b0c090a0eab8row5_col8\" class=\"data row5 col8\" >0.29</td>\n",
       "            </tr>\n",
       "            <tr>\n",
       "                        <th id=\"T_fd4dfbf6_703b_11ea_8590_b0c090a0eab8level0_row6\" class=\"row_heading level0 row6\" >DiabetesPedigreeFunction</th>\n",
       "                        <td id=\"T_fd4dfbf6_703b_11ea_8590_b0c090a0eab8row6_col0\" class=\"data row6 col0\" >-0.034</td>\n",
       "                        <td id=\"T_fd4dfbf6_703b_11ea_8590_b0c090a0eab8row6_col1\" class=\"data row6 col1\" >0.14</td>\n",
       "                        <td id=\"T_fd4dfbf6_703b_11ea_8590_b0c090a0eab8row6_col2\" class=\"data row6 col2\" >0.041</td>\n",
       "                        <td id=\"T_fd4dfbf6_703b_11ea_8590_b0c090a0eab8row6_col3\" class=\"data row6 col3\" >0.18</td>\n",
       "                        <td id=\"T_fd4dfbf6_703b_11ea_8590_b0c090a0eab8row6_col4\" class=\"data row6 col4\" >0.19</td>\n",
       "                        <td id=\"T_fd4dfbf6_703b_11ea_8590_b0c090a0eab8row6_col5\" class=\"data row6 col5\" >0.14</td>\n",
       "                        <td id=\"T_fd4dfbf6_703b_11ea_8590_b0c090a0eab8row6_col6\" class=\"data row6 col6\" >1</td>\n",
       "                        <td id=\"T_fd4dfbf6_703b_11ea_8590_b0c090a0eab8row6_col7\" class=\"data row6 col7\" >0.034</td>\n",
       "                        <td id=\"T_fd4dfbf6_703b_11ea_8590_b0c090a0eab8row6_col8\" class=\"data row6 col8\" >0.17</td>\n",
       "            </tr>\n",
       "            <tr>\n",
       "                        <th id=\"T_fd4dfbf6_703b_11ea_8590_b0c090a0eab8level0_row7\" class=\"row_heading level0 row7\" >Age</th>\n",
       "                        <td id=\"T_fd4dfbf6_703b_11ea_8590_b0c090a0eab8row7_col0\" class=\"data row7 col0\" >0.54</td>\n",
       "                        <td id=\"T_fd4dfbf6_703b_11ea_8590_b0c090a0eab8row7_col1\" class=\"data row7 col1\" >0.26</td>\n",
       "                        <td id=\"T_fd4dfbf6_703b_11ea_8590_b0c090a0eab8row7_col2\" class=\"data row7 col2\" >0.24</td>\n",
       "                        <td id=\"T_fd4dfbf6_703b_11ea_8590_b0c090a0eab8row7_col3\" class=\"data row7 col3\" >-0.11</td>\n",
       "                        <td id=\"T_fd4dfbf6_703b_11ea_8590_b0c090a0eab8row7_col4\" class=\"data row7 col4\" >-0.042</td>\n",
       "                        <td id=\"T_fd4dfbf6_703b_11ea_8590_b0c090a0eab8row7_col5\" class=\"data row7 col5\" >0.036</td>\n",
       "                        <td id=\"T_fd4dfbf6_703b_11ea_8590_b0c090a0eab8row7_col6\" class=\"data row7 col6\" >0.034</td>\n",
       "                        <td id=\"T_fd4dfbf6_703b_11ea_8590_b0c090a0eab8row7_col7\" class=\"data row7 col7\" >1</td>\n",
       "                        <td id=\"T_fd4dfbf6_703b_11ea_8590_b0c090a0eab8row7_col8\" class=\"data row7 col8\" >0.24</td>\n",
       "            </tr>\n",
       "            <tr>\n",
       "                        <th id=\"T_fd4dfbf6_703b_11ea_8590_b0c090a0eab8level0_row8\" class=\"row_heading level0 row8\" >Outcome</th>\n",
       "                        <td id=\"T_fd4dfbf6_703b_11ea_8590_b0c090a0eab8row8_col0\" class=\"data row8 col0\" >0.22</td>\n",
       "                        <td id=\"T_fd4dfbf6_703b_11ea_8590_b0c090a0eab8row8_col1\" class=\"data row8 col1\" >0.47</td>\n",
       "                        <td id=\"T_fd4dfbf6_703b_11ea_8590_b0c090a0eab8row8_col2\" class=\"data row8 col2\" >0.065</td>\n",
       "                        <td id=\"T_fd4dfbf6_703b_11ea_8590_b0c090a0eab8row8_col3\" class=\"data row8 col3\" >0.075</td>\n",
       "                        <td id=\"T_fd4dfbf6_703b_11ea_8590_b0c090a0eab8row8_col4\" class=\"data row8 col4\" >0.13</td>\n",
       "                        <td id=\"T_fd4dfbf6_703b_11ea_8590_b0c090a0eab8row8_col5\" class=\"data row8 col5\" >0.29</td>\n",
       "                        <td id=\"T_fd4dfbf6_703b_11ea_8590_b0c090a0eab8row8_col6\" class=\"data row8 col6\" >0.17</td>\n",
       "                        <td id=\"T_fd4dfbf6_703b_11ea_8590_b0c090a0eab8row8_col7\" class=\"data row8 col7\" >0.24</td>\n",
       "                        <td id=\"T_fd4dfbf6_703b_11ea_8590_b0c090a0eab8row8_col8\" class=\"data row8 col8\" >1</td>\n",
       "            </tr>\n",
       "    </tbody></table>"
      ],
      "text/plain": [
       "<pandas.io.formats.style.Styler at 0x1b931f0fc48>"
      ]
     },
     "execution_count": 7,
     "metadata": {},
     "output_type": "execute_result"
    }
   ],
   "source": [
    "DataDiabets.corr().style.background_gradient().set_precision(2)"
   ]
  },
  {
   "cell_type": "markdown",
   "metadata": {},
   "source": [
    "- Outcome mempunyai hubungan yang yang paling kuat dengan Glukosa dan BMI\n",
    "- Outcome mempunyai hubungan yang lemah dengan Blood Pressure and Skin Thickness"
   ]
  },
  {
   "cell_type": "code",
   "execution_count": 10,
   "metadata": {},
   "outputs": [],
   "source": [
    "    #membuat object Logistic Regression\n",
    "    log_reg = LogisticRegression()"
   ]
  },
  {
   "cell_type": "code",
   "execution_count": 11,
   "metadata": {},
   "outputs": [],
   "source": [
    "# membuat variable x dan y\n",
    "x = DataDiabets.drop(columns=['Outcome'])\n",
    "y = DataDiabets['Outcome']"
   ]
  },
  {
   "cell_type": "code",
   "execution_count": 12,
   "metadata": {},
   "outputs": [],
   "source": [
    "#membagi data menjadi menjadi data training dan data test\n",
    "\n",
    "x_train , x_test , y_train , y_test = train_test_split(x, y, test_size=0.2, random_state=4)"
   ]
  },
  {
   "cell_type": "code",
   "execution_count": 13,
   "metadata": {},
   "outputs": [
    {
     "name": "stderr",
     "output_type": "stream",
     "text": [
      "C:\\Users\\ecos\\Anaconda3\\lib\\site-packages\\sklearn\\linear_model\\logistic.py:432: FutureWarning: Default solver will be changed to 'lbfgs' in 0.22. Specify a solver to silence this warning.\n",
      "  FutureWarning)\n"
     ]
    },
    {
     "data": {
      "text/plain": [
       "LogisticRegression(C=1.0, class_weight=None, dual=False, fit_intercept=True,\n",
       "                   intercept_scaling=1, l1_ratio=None, max_iter=100,\n",
       "                   multi_class='warn', n_jobs=None, penalty='l2',\n",
       "                   random_state=None, solver='warn', tol=0.0001, verbose=0,\n",
       "                   warm_start=False)"
      ]
     },
     "execution_count": 13,
     "metadata": {},
     "output_type": "execute_result"
    }
   ],
   "source": [
    "#training model\n",
    "log_reg.fit(x_train, y_train)"
   ]
  },
  {
   "cell_type": "code",
   "execution_count": 16,
   "metadata": {},
   "outputs": [],
   "source": [
    "# tes set prediksi\n",
    "y_pred = log_reg.predict(x_test)"
   ]
  },
  {
   "cell_type": "code",
   "execution_count": 15,
   "metadata": {},
   "outputs": [
    {
     "name": "stdout",
     "output_type": "stream",
     "text": [
      "              precision    recall  f1-score   support\n",
      "\n",
      "           0       0.83      0.89      0.86       102\n",
      "           1       0.75      0.63      0.69        52\n",
      "\n",
      "    accuracy                           0.81       154\n",
      "   macro avg       0.79      0.76      0.77       154\n",
      "weighted avg       0.80      0.81      0.80       154\n",
      "\n"
     ]
    }
   ],
   "source": [
    "#periksa akurasi laporan klasifikasi\n",
    "print(classification_report(y_test, y_pred))"
   ]
  },
  {
   "cell_type": "markdown",
   "metadata": {},
   "source": [
    "- rata-rata akurasi lumayan bagus. Pada precison rata ratanya 0.79 , recall sama dengan 0.76, accuracy f1 score sama dengan 0.81\n",
    "- Model yang dengan logistic Regression baik di gunakan untuk melakukan prediksi "
   ]
  },
  {
   "cell_type": "markdown",
   "metadata": {},
   "source": [
    "### Prediksi"
   ]
  },
  {
   "cell_type": "code",
   "execution_count": 15,
   "metadata": {},
   "outputs": [
    {
     "data": {
      "text/html": [
       "<div>\n",
       "<style scoped>\n",
       "    .dataframe tbody tr th:only-of-type {\n",
       "        vertical-align: middle;\n",
       "    }\n",
       "\n",
       "    .dataframe tbody tr th {\n",
       "        vertical-align: top;\n",
       "    }\n",
       "\n",
       "    .dataframe thead th {\n",
       "        text-align: right;\n",
       "    }\n",
       "</style>\n",
       "<table border=\"1\" class=\"dataframe\">\n",
       "  <thead>\n",
       "    <tr style=\"text-align: right;\">\n",
       "      <th></th>\n",
       "      <th>Pregnancies</th>\n",
       "      <th>Glucose</th>\n",
       "      <th>BloodPressure</th>\n",
       "      <th>SkinThickness</th>\n",
       "      <th>Insulin</th>\n",
       "      <th>BMI</th>\n",
       "      <th>DiabetesPedigreeFunction</th>\n",
       "      <th>Age</th>\n",
       "      <th>Outcome</th>\n",
       "    </tr>\n",
       "  </thead>\n",
       "  <tbody>\n",
       "    <tr>\n",
       "      <td>0</td>\n",
       "      <td>6</td>\n",
       "      <td>148</td>\n",
       "      <td>72</td>\n",
       "      <td>35</td>\n",
       "      <td>0</td>\n",
       "      <td>33.6</td>\n",
       "      <td>0.627</td>\n",
       "      <td>50</td>\n",
       "      <td>1</td>\n",
       "    </tr>\n",
       "    <tr>\n",
       "      <td>1</td>\n",
       "      <td>1</td>\n",
       "      <td>85</td>\n",
       "      <td>66</td>\n",
       "      <td>29</td>\n",
       "      <td>0</td>\n",
       "      <td>26.6</td>\n",
       "      <td>0.351</td>\n",
       "      <td>31</td>\n",
       "      <td>0</td>\n",
       "    </tr>\n",
       "    <tr>\n",
       "      <td>2</td>\n",
       "      <td>8</td>\n",
       "      <td>183</td>\n",
       "      <td>64</td>\n",
       "      <td>0</td>\n",
       "      <td>0</td>\n",
       "      <td>23.3</td>\n",
       "      <td>0.672</td>\n",
       "      <td>32</td>\n",
       "      <td>1</td>\n",
       "    </tr>\n",
       "    <tr>\n",
       "      <td>3</td>\n",
       "      <td>1</td>\n",
       "      <td>89</td>\n",
       "      <td>66</td>\n",
       "      <td>23</td>\n",
       "      <td>94</td>\n",
       "      <td>28.1</td>\n",
       "      <td>0.167</td>\n",
       "      <td>21</td>\n",
       "      <td>0</td>\n",
       "    </tr>\n",
       "    <tr>\n",
       "      <td>4</td>\n",
       "      <td>0</td>\n",
       "      <td>137</td>\n",
       "      <td>40</td>\n",
       "      <td>35</td>\n",
       "      <td>168</td>\n",
       "      <td>43.1</td>\n",
       "      <td>2.288</td>\n",
       "      <td>33</td>\n",
       "      <td>1</td>\n",
       "    </tr>\n",
       "  </tbody>\n",
       "</table>\n",
       "</div>"
      ],
      "text/plain": [
       "   Pregnancies  Glucose  BloodPressure  SkinThickness  Insulin   BMI  \\\n",
       "0            6      148             72             35        0  33.6   \n",
       "1            1       85             66             29        0  26.6   \n",
       "2            8      183             64              0        0  23.3   \n",
       "3            1       89             66             23       94  28.1   \n",
       "4            0      137             40             35      168  43.1   \n",
       "\n",
       "   DiabetesPedigreeFunction  Age  Outcome  \n",
       "0                     0.627   50        1  \n",
       "1                     0.351   31        0  \n",
       "2                     0.672   32        1  \n",
       "3                     0.167   21        0  \n",
       "4                     2.288   33        1  "
      ]
     },
     "execution_count": 15,
     "metadata": {},
     "output_type": "execute_result"
    }
   ],
   "source": [
    "DataDiabets.head()"
   ]
  },
  {
   "cell_type": "markdown",
   "metadata": {},
   "source": [
    "Ada seorang yang ingin memeriksa dengan kriteria sebagai berikut\n",
    "- Pregnancies = 5\n",
    "- Glucose = 110\n",
    "- Blood Pressure = 90\n",
    "- Skin Thickness = 40\n",
    "- Insulin = 90\n",
    "- BMI = 30\n",
    "- Dibetes PedigreeFunction = 1.00\n",
    "- Age = 22"
   ]
  },
  {
   "cell_type": "code",
   "execution_count": 17,
   "metadata": {},
   "outputs": [],
   "source": [
    "#ubah data yang di cek dalam bntuk list\n",
    "Data = [[5,110,90,40,90,30,1,22]]"
   ]
  },
  {
   "cell_type": "code",
   "execution_count": 19,
   "metadata": {},
   "outputs": [
    {
     "data": {
      "text/plain": [
       "array([0], dtype=int64)"
      ]
     },
     "execution_count": 19,
     "metadata": {},
     "output_type": "execute_result"
    }
   ],
   "source": [
    "#prediksi\n",
    "log_reg.predict(Data)"
   ]
  },
  {
   "cell_type": "markdown",
   "metadata": {},
   "source": [
    "Hasil prediksi adalah \"0\" atau tidak terkena diabets"
   ]
  },
  {
   "cell_type": "code",
   "execution_count": null,
   "metadata": {},
   "outputs": [],
   "source": []
  }
 ],
 "metadata": {
  "kernelspec": {
   "display_name": "Python 3",
   "language": "python",
   "name": "python3"
  },
  "language_info": {
   "codemirror_mode": {
    "name": "ipython",
    "version": 3
   },
   "file_extension": ".py",
   "mimetype": "text/x-python",
   "name": "python",
   "nbconvert_exporter": "python",
   "pygments_lexer": "ipython3",
   "version": "3.7.4"
  }
 },
 "nbformat": 4,
 "nbformat_minor": 2
}
